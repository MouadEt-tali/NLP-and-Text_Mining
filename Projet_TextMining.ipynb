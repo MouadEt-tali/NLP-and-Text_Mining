{
  "nbformat": 4,
  "nbformat_minor": 0,
  "metadata": {
    "colab": {
      "name": "Projet_TextMining.ipynb",
      "provenance": [],
      "authorship_tag": "ABX9TyM6xqmUE44c1tH4/2gNRbPE",
      "include_colab_link": true
    },
    "kernelspec": {
      "name": "python3",
      "display_name": "Python 3"
    },
    "language_info": {
      "name": "python"
    },
    "accelerator": "GPU"
  },
  "cells": [
    {
      "cell_type": "markdown",
      "metadata": {
        "id": "view-in-github",
        "colab_type": "text"
      },
      "source": [
        "<a href=\"https://colab.research.google.com/github/MouadEttali/Text_Mining/blob/main/Projet_TextMining.ipynb\" target=\"_parent\"><img src=\"https://colab.research.google.com/assets/colab-badge.svg\" alt=\"Open In Colab\"/></a>"
      ]
    },
    {
      "cell_type": "markdown",
      "metadata": {
        "id": "d01qGUi5elcU"
      },
      "source": [
        "**I opened the file from my Drive, since I don't like waiting for the upload , depending on how large the file/ how fast your internet upload speed , this method can save a lot of time in getting started.**\n",
        "\n"
      ]
    },
    {
      "cell_type": "code",
      "metadata": {
        "colab": {
          "base_uri": "https://localhost:8080/"
        },
        "id": "c91Er0OQsw-D",
        "outputId": "29503fe7-f1fc-41e5-820c-a65e9810b885"
      },
      "source": [
        "from google.colab import drive\n",
        "drive.mount('/content/drive')"
      ],
      "execution_count": 2,
      "outputs": [
        {
          "output_type": "stream",
          "name": "stdout",
          "text": [
            "Drive already mounted at /content/drive; to attempt to forcibly remount, call drive.mount(\"/content/drive\", force_remount=True).\n"
          ]
        }
      ]
    },
    {
      "cell_type": "code",
      "metadata": {
        "id": "VtDyNpB-twER"
      },
      "source": [
        "with open(\"/content/drive/MyDrive/DBLP_Subset.txt\") as file: # Open the file and read its contents into data \n",
        "\n",
        "   data = file.read() # data variable now has ALL the txt document as a SINGLE string"
      ],
      "execution_count": 3,
      "outputs": []
    },
    {
      "cell_type": "markdown",
      "metadata": {
        "id": "V7xv9mI5f3Z6"
      },
      "source": [
        "First document in the data, as we can see , is still **unclean** and **unstructred** . "
      ]
    },
    {
      "cell_type": "code",
      "metadata": {
        "colab": {
          "base_uri": "https://localhost:8080/",
          "height": 109
        },
        "id": "tsakCSuatxTy",
        "outputId": "3e8a5f02-1182-42e7-ffa5-657d760fcf39"
      },
      "source": [
        "data = data.split(\"#*\")  # data variable now is a LIST of every document on its own \n",
        "data[1]  "
      ],
      "execution_count": 12,
      "outputs": [
        {
          "output_type": "execute_result",
          "data": {
            "application/vnd.google.colaboratory.intrinsic+json": {
              "type": "string"
            },
            "text/plain": [
              "\"Improved Channel Routing by Via Minimization and Shifting.\\n#@Chung-Kuan Cheng\\nDavid N. Deutsch\\n#t1988\\n#cDAC\\n#index131751\\n#%133716\\n#%133521\\n#%134343\\n#!Channel routing area improvement by means of via minimization and via shifting in two dimensions (compaction) is readily achievable. Routing feature area can be minimized by wire straightening. The implementation of algorithms for each of these procedures has produced a solution for Deutsch's Difficult Example\\n the standard channel routing benchmark\\n that is more than 5% smaller than the best result published heretofore. Suggestions for possible future work are also given.\\n\\n\""
            ]
          },
          "metadata": {},
          "execution_count": 12
        }
      ]
    },
    {
      "cell_type": "markdown",
      "metadata": {
        "id": "JvvxCu-4gKoe"
      },
      "source": [
        "We move on now to **structure** the data and make sense out of it by cutting the important parts into their own ***respective variables*** "
      ]
    },
    {
      "cell_type": "code",
      "metadata": {
        "id": "iHW5sSOsuYrU"
      },
      "source": [
        "titles = []\n",
        "authors = []\n",
        "years = []\n",
        "indexes = []\n",
        "journals = []\n",
        "references = []\n",
        "clean_references = []\n",
        "abstracts = []\n",
        "for article in data:\n",
        "  titles.append(article.split('\\n')[0])\n",
        "  authors.append(article[article.find(\"#@\"):article.find(\"#t\")].split(\"\\n\"))\n",
        "  years.append(article[article.find(\"#t\")+2:article.find(\"#c\")-1])\n",
        "  journals.append(article[article.find(\"#c\")+2:article.find(\"#index\")-1])\n",
        "  indexes.append(article[article.find(\"#index\")+6:article.find(\"#%\")-1])\n",
        "  references.append(article[article.find(\"#%\")+2:article.find(\"#!\")-1].split(\"\\n\"))\n",
        "  abstracts.append(article[article.find(\"#!\")+2:article.find(\"\\n\\n\")].replace(\"\\n\",\"\"))\n",
        "\n",
        "titles=titles[1:]\n",
        "authors = authors[1:]\n",
        "years = years[1:]\n",
        "journals = journals[1:]\n",
        "indexes = indexes[1:]\n",
        "references= references[1:]\n",
        "abstracts = abstracts[1:]"
      ],
      "execution_count": 50,
      "outputs": []
    },
    {
      "cell_type": "markdown",
      "metadata": {
        "id": "xIsIsc5sg1TH"
      },
      "source": [
        "some further cleaning for the author variables, since it's a nested list the find function above will only find the first occurance of the author and so to clean the \"#@\" sign in the 2nd , 3rd , etc ... author we have to get inside of the list and use replace to delete the extra signs"
      ]
    },
    {
      "cell_type": "code",
      "metadata": {
        "colab": {
          "base_uri": "https://localhost:8080/"
        },
        "id": "DT5uUbbTX-_a",
        "outputId": "9bad4c5b-a103-40f1-82c5-acdb73de5922"
      },
      "source": [
        "for author in authors :\n",
        "  author.pop()\n",
        "  author[0] = author[0].replace(\"#@\", \"\" )\n",
        "#journals.count(\"\")  count the number of articles with no Journal Title\n",
        "authors[2]"
      ],
      "execution_count": 52,
      "outputs": [
        {
          "output_type": "execute_result",
          "data": {
            "text/plain": [
              "['Kwang-Ting Cheng', 'Hi-Keung Tony Ma']"
            ]
          },
          "metadata": {},
          "execution_count": 52
        }
      ]
    },
    {
      "cell_type": "markdown",
      "metadata": {
        "id": "MHV6hMvehQKm"
      },
      "source": [
        "Same for References, also a nested list that required further cleaning "
      ]
    },
    {
      "cell_type": "code",
      "metadata": {
        "id": "n-SbrV9XZQMp"
      },
      "source": [
        "for ref_list in references:\n",
        "  clean_ref_list = []\n",
        "  for ref in ref_list:\n",
        "    clean_ref_list.append(ref.replace(\"#%\",\"\"))  # new clean reference list for each document \n",
        "  clean_references.append(clean_ref_list)  # new clean references for all the documents"
      ],
      "execution_count": 53,
      "outputs": []
    },
    {
      "cell_type": "markdown",
      "metadata": {
        "id": "1GC-nWJ7huou"
      },
      "source": [
        "Small test to see if all the data is clean , and has everything we were going for."
      ]
    },
    {
      "cell_type": "code",
      "metadata": {
        "colab": {
          "base_uri": "https://localhost:8080/"
        },
        "id": "zkgOPkvLOVMp",
        "outputId": "c3b605db-3d86-4a16-bdaa-d80bd3d4df14"
      },
      "source": [
        "print(titles[1],authors[1],years[1],journals[1],indexes[1],clean_references[1],abstracts[1])\n",
        "print(titles[3],authors[3],years[3],journals[3],indexes[3],clean_references[3],abstracts[3])"
      ],
      "execution_count": 56,
      "outputs": [
        {
          "output_type": "stream",
          "name": "stdout",
          "text": [
            "A fast simultaneous input vector generation and gate replacement algorithm for leakage power reduction. ['Lei Cheng', 'Liang Deng', 'Deming Chen', 'Martin D. F. Wong'] 2006 DAC 131752 ['132550', '530568', '436486', '134259', '283007', '134422', '282140', '1134324'] Input vector control (IVC) technique is based on the observation that the leakage current in a CMOS logic gate depends on the gate input state and a good input vector is able to minimize the leakage when the circuit is in the sleep mode. The gate replacement technique is a very effective method to further reduce the leakage current. In this paper we propose a fast algorithm to find a low leakage input vector with simultaneous gate replacement. Results on MCNC91 benchmark circuits show that our algorithm produces $14 %$ better leakage current reduction with several orders of magnitude speedup in runtime for large circuits compared to the previous state-of-the-art algorithm. In particular the average runtime for the ten largest combinational circuits has been dramatically reduced from 1879 seconds to 0.34 seconds.\n",
            "Device and architecture co-optimization for FPGA power reduction. ['Lerong Cheng', 'Phoebe Wong', 'Fei Li', 'Yan Lin', 'Lei He'] 2005 DAC 131759 ['214244', '215701', '214503', '282575', '214411', '214505', '132929'] Device optimization considering supply voltage Vdd and threshold voltage Vt tuning does not increase chip area but has a great impact on power and performance in the nanometer technology. This paper studies the simultaneous evaluation of device and architecture optimization for FPGA. We first develop an efficient yet accurate timing and power evaluation method called trace-based model. By collecting trace information from cycle-accurate simulation of placed and routed FPGA benchmark circuits and re-using the trace for different Vdd and Vt we enable the device and architecture co-optimization for hundreds of combinations. Compared to the baseline FPGA which has the architecture same as the commercial FPGA used by Xilinx and has Vdd suggested by ITRS but Vt optimized by our device optimization architecture and device co-optimization can reduce energy-delay product by 20.5% without any chip area increase compared to the conventional FPGA architecture. Furthermore considering power-gating of unused logic blocks and interconnect switches our co-optimization method reduces energy-delay product by 54.7% and chip area by 8.3%. To the best of our knowledge this is the first in-depth study on architecture and device co-optimization for FPGAs.\n"
          ]
        }
      ]
    },
    {
      "cell_type": "markdown",
      "metadata": {
        "id": "dCiwUYUHh7B0"
      },
      "source": [
        "Since that worked perfectly, now we move on to creating the dataFrame for the entire data from our respective variables."
      ]
    },
    {
      "cell_type": "code",
      "metadata": {
        "colab": {
          "base_uri": "https://localhost:8080/",
          "height": 293
        },
        "id": "efEa3vUqda_z",
        "outputId": "9df81a2d-7ae4-48c8-ee2e-2f29870669ee"
      },
      "source": [
        "import pandas as pd \n",
        "df = pd.DataFrame(list(zip(titles,authors,years,journals,indexes,clean_references,abstracts )),\n",
        "               columns =['Title', 'Authors','Year','Journal','Index','Referenced_By','Abstract'])\n",
        "df.head()"
      ],
      "execution_count": 55,
      "outputs": [
        {
          "output_type": "execute_result",
          "data": {
            "text/html": [
              "<div>\n",
              "<style scoped>\n",
              "    .dataframe tbody tr th:only-of-type {\n",
              "        vertical-align: middle;\n",
              "    }\n",
              "\n",
              "    .dataframe tbody tr th {\n",
              "        vertical-align: top;\n",
              "    }\n",
              "\n",
              "    .dataframe thead th {\n",
              "        text-align: right;\n",
              "    }\n",
              "</style>\n",
              "<table border=\"1\" class=\"dataframe\">\n",
              "  <thead>\n",
              "    <tr style=\"text-align: right;\">\n",
              "      <th></th>\n",
              "      <th>Title</th>\n",
              "      <th>Authors</th>\n",
              "      <th>Year</th>\n",
              "      <th>Journal</th>\n",
              "      <th>Index</th>\n",
              "      <th>Referenced_By</th>\n",
              "      <th>Abstract</th>\n",
              "    </tr>\n",
              "  </thead>\n",
              "  <tbody>\n",
              "    <tr>\n",
              "      <th>0</th>\n",
              "      <td>Improved Channel Routing by Via Minimization a...</td>\n",
              "      <td>[Chung-Kuan Cheng, David N. Deutsch]</td>\n",
              "      <td>1988</td>\n",
              "      <td>DAC</td>\n",
              "      <td>131751</td>\n",
              "      <td>[133716, 133521, 134343]</td>\n",
              "      <td>Channel routing area improvement by means of v...</td>\n",
              "    </tr>\n",
              "    <tr>\n",
              "      <th>1</th>\n",
              "      <td>A fast simultaneous input vector generation an...</td>\n",
              "      <td>[Lei Cheng, Liang Deng, Deming Chen, Martin D....</td>\n",
              "      <td>2006</td>\n",
              "      <td>DAC</td>\n",
              "      <td>131752</td>\n",
              "      <td>[132550, 530568, 436486, 134259, 283007, 13442...</td>\n",
              "      <td>Input vector control (IVC) technique is based ...</td>\n",
              "    </tr>\n",
              "    <tr>\n",
              "      <th>2</th>\n",
              "      <td>On the Over-Specification Problem in Sequentia...</td>\n",
              "      <td>[Kwang-Ting Cheng, Hi-Keung Tony Ma]</td>\n",
              "      <td>1992</td>\n",
              "      <td>DAC</td>\n",
              "      <td>131756</td>\n",
              "      <td>[455537, 1078626, 131745]</td>\n",
              "      <td>The authors show that some ATPG (automatic tes...</td>\n",
              "    </tr>\n",
              "    <tr>\n",
              "      <th>3</th>\n",
              "      <td>Device and architecture co-optimization for FP...</td>\n",
              "      <td>[Lerong Cheng, Phoebe Wong, Fei Li, Yan Lin, L...</td>\n",
              "      <td>2005</td>\n",
              "      <td>DAC</td>\n",
              "      <td>131759</td>\n",
              "      <td>[214244, 215701, 214503, 282575, 214411, 21450...</td>\n",
              "      <td>Device optimization considering supply voltage...</td>\n",
              "    </tr>\n",
              "    <tr>\n",
              "      <th>4</th>\n",
              "      <td>Differential Fault Simulation - a Fast Method ...</td>\n",
              "      <td>[Wu-Tung Cheng, Meng-Lin Yu]</td>\n",
              "      <td>1989</td>\n",
              "      <td>DAC</td>\n",
              "      <td>131760</td>\n",
              "      <td>[131744, 806030]</td>\n",
              "      <td>A new fast fault simulator called differential...</td>\n",
              "    </tr>\n",
              "  </tbody>\n",
              "</table>\n",
              "</div>"
            ],
            "text/plain": [
              "                                               Title  ...                                           Abstract\n",
              "0  Improved Channel Routing by Via Minimization a...  ...  Channel routing area improvement by means of v...\n",
              "1  A fast simultaneous input vector generation an...  ...  Input vector control (IVC) technique is based ...\n",
              "2  On the Over-Specification Problem in Sequentia...  ...  The authors show that some ATPG (automatic tes...\n",
              "3  Device and architecture co-optimization for FP...  ...  Device optimization considering supply voltage...\n",
              "4  Differential Fault Simulation - a Fast Method ...  ...  A new fast fault simulator called differential...\n",
              "\n",
              "[5 rows x 7 columns]"
            ]
          },
          "metadata": {},
          "execution_count": 55
        }
      ]
    }
  ]
}